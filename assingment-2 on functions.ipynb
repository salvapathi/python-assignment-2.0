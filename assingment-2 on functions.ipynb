{
 "cells": [
  {
   "cell_type": "code",
   "execution_count": 1,
   "id": "1c2241ee",
   "metadata": {},
   "outputs": [],
   "source": [
    "# Write a program to accept two numbers from the userand calculate multiplication, division\n",
    "def mul(x,y,):\n",
    "    yield x*y\n",
    "    yield x/y\n",
    "\n"
   ]
  },
  {
   "cell_type": "code",
   "execution_count": null,
   "id": "9b3c3437",
   "metadata": {},
   "outputs": [],
   "source": [
    "w=mul(5,5)\n",
    "print(next(w))\n",
    "print(next(w))\n"
   ]
  },
  {
   "cell_type": "code",
   "execution_count": 2,
   "id": "b03cfbfd",
   "metadata": {},
   "outputs": [
    {
     "name": "stdout",
     "output_type": "stream",
     "text": [
      "enter the number=5\n",
      "enter the operation*\n",
      "enter the second=5\n",
      "the mulitiplication is,5*5=25\n"
     ]
    }
   ],
   "source": [
    "x=int(input(\"enter the number=\"))\n",
    "s=input(\"enter the operation\")\n",
    "y=int(input(\"enter the second=\"))\n",
    "if s==\"*\":\n",
    "    print(\"the mulitiplication is,{}*{}={}\".format(x,y,x*y))\n",
    "elif s==\"/\":\n",
    "     print(\"the division is,{}*{}={}\".format(x,y,x/y))"
   ]
  },
  {
   "cell_type": "code",
   "execution_count": null,
   "id": "0aa88466",
   "metadata": {},
   "outputs": [],
   "source": [
    "#2) Write a python program to print the characters from astring that are present at an even index\n",
    "string1=\"python\"\n",
    "new=[]\n",
    "for i in range(len(string1)):\n",
    "    if i%2==0:\n",
    "        new.append(string1[i])\n",
    "\"\".join(new)"
   ]
  },
  {
   "cell_type": "code",
   "execution_count": null,
   "id": "3d5d11d8",
   "metadata": {},
   "outputs": [],
   "source": [
    "string1[0::2]"
   ]
  },
  {
   "cell_type": "code",
   "execution_count": null,
   "id": "29b1e596",
   "metadata": {},
   "outputs": [],
   "source": [
    "string1=input(\"enter the string\")\n",
    "i=0\n",
    "while i<len(string1):\n",
    "    print(string1[i],end=\",\")\n",
    "    i=i+2"
   ]
  },
  {
   "cell_type": "code",
   "execution_count": null,
   "id": "cc23163a",
   "metadata": {},
   "outputs": [],
   "source": [
    "# 3.Write a python program to print the characters from astring that are present at an odd index\n",
    "str1=input(\"enter the string\")\n",
    "o=1\n",
    "while o<len(str1):\n",
    "    print(str1[o],end=\",\")\n",
    "    o=o+2\n",
    "print(o)\n",
    "    \n"
   ]
  },
  {
   "cell_type": "code",
   "execution_count": null,
   "id": "61773a26",
   "metadata": {},
   "outputs": [],
   "source": [
    "# 3.Write a python program to print the characters from astring that are present at an odd index\n",
    "str1=input(\"enter the string\")\n",
    "o=1\n",
    "while o<len(str1):\n",
    "    if o%2!=0:\n",
    "        print(str1[o])\n",
    "    o+=1\n",
    "    \n"
   ]
  },
  {
   "cell_type": "code",
   "execution_count": 3,
   "id": "fe6b26d2",
   "metadata": {},
   "outputs": [
    {
     "name": "stdout",
     "output_type": "stream",
     "text": [
      "enter the first number=5\n",
      "enter the second number=10\n",
      "the difference of sum of two numbers 5 10 is -5\n"
     ]
    }
   ],
   "source": [
    "# Write a python program which will print the sum of thetwo numbers if the two numbers are even or it will print the\n",
    "#difference of two numbers\n",
    "a=int(input(\"enter the first number=\"))\n",
    "b=int(input(\"enter the second number=\"))\n",
    "c=(a+b)\n",
    "d=(a-b)\n",
    "if c%2==0:\n",
    "    print(\"the sum of two numbers is even\",c)\n",
    "else:\n",
    "    print(\"the difference of sum of two numbers\",a,b,\"is\",d)\n",
    "\n",
    "      \n",
    "\n",
    "      "
   ]
  },
  {
   "cell_type": "code",
   "execution_count": null,
   "id": "ef1ed9f0",
   "metadata": {},
   "outputs": [],
   "source": [
    "a=5\n",
    "b=2\n",
    "c=a+b\n",
    "d=a-b\n",
    "if c%2==0:\n",
    "    print(\"the sum of two numbers is even\",c)\n",
    "elif c%2!=0:\n",
    "        print(\"it gives the difference of two numbers=\",d)"
   ]
  },
  {
   "cell_type": "code",
   "execution_count": null,
   "id": "8964a72e",
   "metadata": {},
   "outputs": [],
   "source": [
    "#5) Write a python program to convert all even indexedalphabets to upper and odd indexed char\n",
    "stri2=input(\"enter the string=\")\n",
    "new1=\"\"\n",
    "for i in range(len(stri2)):\n",
    "    if i%2==0:\n",
    "        new1=new1+stri2[i].lower()\n",
    "    else:\n",
    "        new1=new1+stri2[i].upper()\n",
    "print(new1)\n",
    "\n",
    "        "
   ]
  },
  {
   "cell_type": "code",
   "execution_count": null,
   "id": "896ef355",
   "metadata": {},
   "outputs": [],
   "source": [
    "#6) Write a python program which will print True if the input number is divisible by 5 or else False\n",
    "n=int(input(\"enter the number\"))\n",
    "if n%5==0:\n",
    "    print(\"True\")\n",
    "else:\n",
    "    print(\"False\")"
   ]
  },
  {
   "cell_type": "code",
   "execution_count": 3,
   "id": "b82fa1ed",
   "metadata": {},
   "outputs": [
    {
     "name": "stdout",
     "output_type": "stream",
     "text": [
      "enter the 1st number100\n",
      "enter the 2nd number60\n",
      "the product is greater than 1000.the product of two numbers 6000\n"
     ]
    }
   ],
   "source": [
    "#7Given two integer numbers return their product only if theproduct is greater than 1000, else return their sum\n",
    "x=int(input(\"enter the 1st number\"))\n",
    "y=int(input(\"enter the 2nd number\"))\n",
    "d=(x*y)\n",
    "add=(x+y)\n",
    "if d>1000:\n",
    "    print(\"the product is greater than 1000.the product of two numbers\",d)\n",
    "else:\n",
    "    print(\"sum of two numbers\",add)"
   ]
  },
  {
   "cell_type": "code",
   "execution_count": 9,
   "id": "80c9dac5",
   "metadata": {},
   "outputs": [
    {
     "name": "stdout",
     "output_type": "stream",
     "text": [
      "enter the string=pytho\n",
      "enter the string=javas\n"
     ]
    },
    {
     "data": {
      "text/plain": [
       "'pjtvos'"
      ]
     },
     "execution_count": 9,
     "metadata": {},
     "output_type": "execute_result"
    }
   ],
   "source": [
    "#8) Given two strings x, y writes a program to return a newstring made of x and y’s first, middle, and last charactersExample:Input\n",
    "#X=” pytho”Y=” javas”Output” pjtvos”\n",
    "x=input(\"enter the string=\")\n",
    "y=input(\"enter the string=\")\n",
    "x[0]+y[0]+x[len(x)//2]+y[len(y)//2]+x[-1]+y[-1]"
   ]
  },
  {
   "cell_type": "code",
   "execution_count": 23,
   "id": "627331c2",
   "metadata": {},
   "outputs": [],
   "source": [
    "#9) Write a python program to take three names as inputfrom a user in the single input () function callExample:\n",
    "#Input:Enter three names: - “person1 person2 person3”Output:Name1: - “person1”Name2: - “person2”Name3: - “person3”\n",
    "def bio(name1,name2,name3):\n",
    "    print(name1,name2,name3)\n",
    "    \n",
    "    \n"
   ]
  },
  {
   "cell_type": "code",
   "execution_count": 24,
   "id": "7dab4f25",
   "metadata": {},
   "outputs": [
    {
     "name": "stdout",
     "output_type": "stream",
     "text": [
      "iron man steve rogers hulk\n"
     ]
    }
   ],
   "source": [
    "bio(name1=\"iron man\",name2=\"steve rogers\",name3=\"hulk\")"
   ]
  },
  {
   "cell_type": "code",
   "execution_count": 3,
   "id": "69c964be",
   "metadata": {},
   "outputs": [
    {
     "name": "stdout",
     "output_type": "stream",
     "text": [
      "enter the numberiron,stark,hulk\n",
      "names iron\n",
      "names stark\n",
      "names hulk\n"
     ]
    }
   ],
   "source": [
    "names=input(\"enter the number\")\n",
    "w=names.split(\",\")\n",
    "print(\"names\",w[0])\n",
    "print(\"names\",w[1])\n",
    "print(\"names\",w[2])\n"
   ]
  },
  {
   "cell_type": "code",
   "execution_count": null,
   "id": "8d7e279e",
   "metadata": {},
   "outputs": [],
   "source": [
    "#10) Write a Python program to get a string from a givenstring where all occurrences of its first char have beenchanged to '@', except the first char itself.\n",
    "#Example:Input:'malayalam’Output:'malayala@'Input:' abcabab'Output:‘abc@b@b’\n",
    "alpha=input(\"enter the string=\")\n",
    "\n",
    "alpha[0]+alpha[1:].replace(\"p\",\"@\")\n",
    "\n",
    "\n"
   ]
  },
  {
   "cell_type": "code",
   "execution_count": 5,
   "id": "b922fbb5",
   "metadata": {},
   "outputs": [
    {
     "name": "stdout",
     "output_type": "stream",
     "text": [
      "enter the number=gfdr\n",
      "gfdring\n"
     ]
    }
   ],
   "source": [
    "#11) Write a Python program to add 'ing' at the end of a givenstring (string length should be equal to or more than 3). Ifthe given string already ends with 'ing' then add 'ly' instead.\n",
    "#If the string length of the given string is less than 3, leave it\n",
    "alpha=input(\"enter the number=\")\n",
    "s=\"ing\"\n",
    "k=\"ly\"\n",
    "if len(alpha)<=3:\n",
    "    print(alpha)\n",
    "else:\n",
    "    if alpha.endswith(\"ing\"):\n",
    "         print(alpha+k)\n",
    "    else:\n",
    "        print(alpha+s)\n",
    "\n",
    "\n",
    "\n"
   ]
  },
  {
   "cell_type": "code",
   "execution_count": 56,
   "id": "61574c2c",
   "metadata": {},
   "outputs": [
    {
     "name": "stdout",
     "output_type": "stream",
     "text": [
      "playing\n",
      "playingly\n"
     ]
    }
   ],
   "source": [
    "word=input()\n",
    "if len(word)<=3:\n",
    "    print(word)\n",
    "else:\n",
    "    if word[-3:]==\"ing\":\n",
    "        print(word+\"ly\")\n",
    "    else:\n",
    "        print(word+\"ing\")\n",
    "\n",
    "    "
   ]
  },
  {
   "cell_type": "code",
   "execution_count": 47,
   "id": "86bb8e43",
   "metadata": {},
   "outputs": [
    {
     "name": "stdout",
     "output_type": "stream",
     "text": [
      "enter the 1st number=5\n",
      "enter the 2nd number=5\n",
      "true\n"
     ]
    }
   ],
   "source": [
    "#12) Write a python program that accepts two inputs num1 andnum2 print True if one of them is 10 or if their sum is 10 \n",
    "#otherwise print False.\n",
    "x=int(input(\"enter the 1st number=\"))\n",
    "y=int(input(\"enter the 2nd number=\"))\n",
    "c=x+y\n",
    "if (y)==10 or (x)==10 or c==10:\n",
    "    print(\"true\")\n",
    "else:\n",
    "    print(\"false\")\n"
   ]
  },
  {
   "cell_type": "code",
   "execution_count": 49,
   "id": "2b9d16ed",
   "metadata": {},
   "outputs": [
    {
     "name": "stdout",
     "output_type": "stream",
     "text": [
      "enter the first number=10\n",
      "enter the second number=10\n",
      "enter the third number=10\n",
      "true\n"
     ]
    }
   ],
   "source": [
    "#13) Write a python program that accepts three inputs x, y andz print True if x*y>z otherwise False\n",
    "x=int(input(\"enter the first number=\"))\n",
    "y=int(input(\"enter the second number=\"))\n",
    "z=int(input(\"enter the third number=\"))\n",
    "a=x*y\n",
    "if a>z:\n",
    "    print(\"true\")\n",
    "else:\n",
    "    print(\"false\")\n"
   ]
  },
  {
   "cell_type": "code",
   "execution_count": 5,
   "id": "1a7634c9",
   "metadata": {},
   "outputs": [
    {
     "name": "stdout",
     "output_type": "stream",
     "text": [
      "enter the string=alpha\n",
      "enter the second string=beta\n",
      "false\n"
     ]
    }
   ],
   "source": [
    "#14) Write a python program that accepts two strings inputsreturn True depending on whether the total number ofcharacters in the first string is equal to the total number of\n",
    "#characters in the second string\n",
    "a=input(\"enter the string=\")\n",
    "b=input(\"enter the second string=\")\n",
    "x=len(a)\n",
    "y=len(b)\n",
    "if x==y:\n",
    "    print(\"true\")\n",
    "else:\n",
    "    print(\"false\")"
   ]
  },
  {
   "cell_type": "code",
   "execution_count": 8,
   "id": "87b6faec",
   "metadata": {},
   "outputs": [
    {
     "name": "stdout",
     "output_type": "stream",
     "text": [
      "enter the stringmsd\n",
      "msdmsdmsd\n"
     ]
    }
   ],
   "source": [
    "#15) Write a python program that takes a string input, we'll saythat the front is the first three characters of the string. If thestring length is less than three characters, the front iswhatever is there. Return a new string, which is three copies\n",
    "#of the front.\n",
    "new=input(\"enter the string\")\n",
    "if len(new)<3:\n",
    "    print(new)\n",
    "else:\n",
    "    print(new[0:3]+new[0:3]+new)\n",
    "\n"
   ]
  },
  {
   "cell_type": "code",
   "execution_count": 9,
   "id": "f52104f4",
   "metadata": {},
   "outputs": [
    {
     "name": "stdout",
     "output_type": "stream",
     "text": [
      "its a plural\n",
      "its a plural\n",
      "its false\n",
      "its false\n"
     ]
    }
   ],
   "source": [
    "#16.Write a python program that takes in a word anddetermines whether or not it is plural.\n",
    "#A plural word is onethat ends in \"s\".\n",
    "a=(\"bats,cats,alpha,beta\")\n",
    "w=a.split(\",\")\n",
    "for i in w:\n",
    "    if i.endswith(\"s\"):\n",
    "        print(\"its a plural\")\n",
    "    else:\n",
    "        print(\"its not a plural\")"
   ]
  },
  {
   "cell_type": "code",
   "execution_count": 10,
   "id": "2c37c2aa",
   "metadata": {},
   "outputs": [
    {
     "name": "stdout",
     "output_type": "stream",
     "text": [
      "enter the stingscats,bats,hate,dog\n",
      "its a plural\n",
      "its a plural\n",
      "its not a plural\n",
      "its not a plural\n"
     ]
    }
   ],
   "source": [
    "a=input(\"enter the stings\")\n",
    "w=a.split(\",\")\n",
    "for i in w:\n",
    "    if i.endswith(\"s\"):\n",
    "        print(\"its a plural\")\n",
    "    else:\n",
    "        print(\"its not a plural\")"
   ]
  },
  {
   "cell_type": "code",
   "execution_count": 4,
   "id": "ea6aa6ce",
   "metadata": {},
   "outputs": [
    {
     "name": "stdout",
     "output_type": "stream",
     "text": [
      "enter the age=55\n",
      "enter true or false on break or nottrue\n",
      "u cant serve the drink\n"
     ]
    }
   ],
   "source": [
    "#17\n",
    "age=int(input(\"enter the age=\"))\n",
    "if age<18:\n",
    "    print(\"you cant serve the drink\")\n",
    "if age>=18:\n",
    "    breaktime=input(\"enter true or false on break or not\")\n",
    "    if breaktime==\"true\" or breaktime==\"True\":\n",
    "        print(\"u cant serve the drink\")\n",
    "    else:\n",
    "        print(\"he can serve the drink\")\n",
    "#else:\n",
    "   # print(\"u can serve the drink\")"
   ]
  },
  {
   "cell_type": "code",
   "execution_count": 14,
   "id": "29ce3b4e",
   "metadata": {},
   "outputs": [],
   "source": [
    "#18) Manoj Kumar has family and friends. Help him remindthem who is who. Given a string with a name, return therelation of that person to Manoj Kumar.\n",
    "#Person Relation,Shiva fatherLetha mother,Tarun brother\n",
    "def fa(x,y,z=\"tarun\"):\n",
    "    print(\"father\",x)\n",
    "    print(\"mother\",y)\n",
    "    print(\"brother\",z)"
   ]
  },
  {
   "cell_type": "code",
   "execution_count": 15,
   "id": "010dac50",
   "metadata": {},
   "outputs": [
    {
     "name": "stdout",
     "output_type": "stream",
     "text": [
      "father shivya\n",
      "mother letha\n",
      "brother tarun\n"
     ]
    }
   ],
   "source": [
    "fa(\"shivya\",\"letha\")"
   ]
  },
  {
   "cell_type": "code",
   "execution_count": 33,
   "id": "9cb74ef7",
   "metadata": {},
   "outputs": [
    {
     "name": "stdout",
     "output_type": "stream",
     "text": [
      "aeioobcdfghjklmnpq@346^&\n"
     ]
    }
   ],
   "source": [
    "#19)\n",
    "str1=\"abcdefghijklmnoopq@346^&\"\n",
    "v1=\"aeiou\"\n",
    "vowel=\"\"\n",
    "cons=\"\"\n",
    "for i in str1:\n",
    "    if i not in v1:\n",
    "        cons=cons+i\n",
    "    elif i in v1:\n",
    "        vowel+=i\n",
    "print(vowel+cons)\n",
    "    \n"
   ]
  },
  {
   "cell_type": "code",
   "execution_count": 44,
   "id": "558df79b",
   "metadata": {},
   "outputs": [],
   "source": [
    "#20) Create a dynamic calculator which asks for numbers andoperator and return the answersExampleInput:Type first number: 10\n",
    "#Type any of this (+, -, *, /, %, **): \n",
    "def cal(x,s,y):\n",
    "    if s==\"+\":\n",
    "        print(\"{},{},{}\".format(x,y,(x+y)))\n",
    "    elif s==\"-\":\n",
    "        print(\"{},{},{}\".format(x,y,(x-y)))\n",
    "    elif s==\"*\":\n",
    "        print(\"{},{},{}\".format(x,y,(x*y)))\n",
    "    elif s==\"**\":\n",
    "        print(\"{},{},{}\".format(x,y,(x**y))) \n",
    "    "
   ]
  },
  {
   "cell_type": "code",
   "execution_count": 45,
   "id": "def8c7ce",
   "metadata": {},
   "outputs": [
    {
     "name": "stdout",
     "output_type": "stream",
     "text": [
      "5,10,-5\n"
     ]
    }
   ],
   "source": [
    "cal(5,\"-\",10)"
   ]
  },
  {
   "cell_type": "code",
   "execution_count": null,
   "id": "adbc6b54",
   "metadata": {},
   "outputs": [],
   "source": []
  }
 ],
 "metadata": {
  "kernelspec": {
   "display_name": "Python 3 (ipykernel)",
   "language": "python",
   "name": "python3"
  },
  "language_info": {
   "codemirror_mode": {
    "name": "ipython",
    "version": 3
   },
   "file_extension": ".py",
   "mimetype": "text/x-python",
   "name": "python",
   "nbconvert_exporter": "python",
   "pygments_lexer": "ipython3",
   "version": "3.9.13"
  }
 },
 "nbformat": 4,
 "nbformat_minor": 5
}
